{
 "cells": [
  {
   "cell_type": "code",
   "execution_count": 1,
   "id": "7ec28303",
   "metadata": {},
   "outputs": [],
   "source": [
    "from pythainlp.tokenize import word_tokenize\n",
    "import os\n",
    "import csv\n",
    "import sqlite3\n",
    "import json\n",
    "\n",
    "cur_dir = globals()['_dh'][0]\n",
    "\n",
    "class locationExtractor(object):\n",
    "    \n",
    "    \n",
    "    \n",
    "    def __init__(self, news, db_file=None):\n",
    "        # need to use __file__ in script\n",
    "        db_file = db_file or os.path.dirname(os.path.realpath(cur_dir)) + \"/locationdata.db\"\n",
    "        self.conn = sqlite3.connect(db_file)\n",
    "        self.news = news\n",
    "        \n",
    "    def populate_db(self):\n",
    "        cur = self.conn.cursor()\n",
    "        \n",
    "        cur.execute(\"CREATE TABLE IF NOT EXISTS locations(AD_LEVEL,TA_ID,TAMBON_T,TAMBON_E,AM_ID,AMPHOE_T,AMPHOE_E,CH_ID,CHANGWAT_T,CHANGWAT_E,LAT,LONG)\")\n",
    "        \n",
    "        with open(str(cur_dir)+\"/data/tambon.csv\", encoding = 'UTF') as info:\n",
    "            reader = csv.reader(info)\n",
    "            for row in reader:\n",
    "                cur.execute(\"INSERT INTO locations VALUES(?, ?, ?, ?, ?, ?, ?, ?, ?, ?, ?, ?);\", row)\n",
    "            \n",
    "            self.conn.commit()\n",
    "        \n",
    "    def db_has_data(self):\n",
    "        cur = self.conn.cursor()\n",
    "        \n",
    "        cur.execute(\"SELECT Count(*) FROM sqlite_master WHERE name='locations';\")\n",
    "        data = cur.fetchone()[0]\n",
    "        \n",
    "        if data > 0:\n",
    "            cur.execute(\"SELECT Count(*) FROM locations\")\n",
    "            data = cur.fetchone()[0]\n",
    "            return data > 0\n",
    "        \n",
    "        return False\n",
    "        \n",
    "    def find_province(self):\n",
    "        \n",
    "        if not self.db_has_data():\n",
    "            self.populate_db()\n",
    "        cur = self.conn.cursor()\n",
    "        provinceQuery  = \"SELECT CHANGWAT_T FROM locations\"\n",
    "        cur.execute(provinceQuery)\n",
    "        rows = cur.fetchall()\n",
    "        province_list = [', '.join(map(str, x)) for x in rows]\n",
    "        \n",
    "        self.province = []\n",
    "        words = word_tokenize(self.news)\n",
    "        # print(words)\n",
    "        for i in range(len(words)):\n",
    "            # print(words[i])\n",
    "            if 'จ.' in words[i] or 'จังหวัด' in words[i]:\n",
    "                print(words[i] + ': ' + words[i+1])\n",
    "                if(words[i+1] != ' '):\n",
    "                    for province in province_list:\n",
    "                        if words[i+1] in province:\n",
    "                            self.province.append(province)\n",
    "                            break\n",
    "                    \n",
    "                    \n",
    "        if not self.province:\n",
    "            for word in words:\n",
    "                for province in province_list:\n",
    "                    if words in province_list:\n",
    "                        self.province.append(province)\n",
    "                    \n",
    "                        \n",
    "                    \n",
    "        \n",
    "                    \n",
    "    def find_tambon(self):\n",
    "        self.tambon = []\n",
    "        words = word_tokenize(self.news)\n",
    "        for i in range(len(words)):\n",
    "            if 'ตำบล' in words[i] or 'ต.' in words[i] or 'เเขวง' in words[i]:\n",
    "                j = i \n",
    "                words\n",
    "        \n",
    "                \n",
    "        \n",
    "            \n",
    "        \n",
    "        \n",
    "    "
   ]
  },
  {
   "cell_type": "code",
   "execution_count": 2,
   "id": "a2c52af7",
   "metadata": {},
   "outputs": [
    {
     "ename": "KeyboardInterrupt",
     "evalue": "",
     "output_type": "error",
     "traceback": [
      "\u001b[1;31m---------------------------------------------------------------------------\u001b[0m",
      "\u001b[1;31mKeyboardInterrupt\u001b[0m                         Traceback (most recent call last)",
      "Input \u001b[1;32mIn [2]\u001b[0m, in \u001b[0;36m<cell line: 2>\u001b[1;34m()\u001b[0m\n\u001b[0;32m      1\u001b[0m test \u001b[38;5;241m=\u001b[39m locationExtractor(news\u001b[38;5;241m=\u001b[39m\u001b[38;5;124m'\u001b[39m\u001b[38;5;124mเมื่อวันที่ 13 ส.ค. ตำรวจสายตรวจ สภ.เมืองสิงห์บุรี ได้รับแจ้งเหตุมีคนคลุ้มคลั่งใช้อาวุธมีดฟันรถยนต์ที่จอดอยู่ภายในเต็นท์จำหน่ายรถยนต์มือสอง ตำบลต้นโพธ์ อำเภอเมืองสิงห์บุรี จึงรีดรุดไปตรวจสอบ ที่เกิดเหตุพบนายประสูติ พระยิ้ม เจ้าของเต็นท์รถยืนรอเจ้าหน้าที่ พร้อมกับให้การว่า ผู้ก่อเหตุเป็นหญิงชื่อ นางบุญช่วย (สงวนนามสกุล) อายุ 44 ปี คลุ้มคลั่งพูดจาไม่รู้เรื่อง ก่อนจะใช้มีดฟันกระจกมองข้างรถยนต์ในเต็นท์เสียหายไป 2 คัน ขณะนี้อยู่ในห้องพักคนงาน...\u001b[39m\u001b[38;5;124m'\u001b[39m)\n\u001b[1;32m----> 2\u001b[0m \u001b[43mtest\u001b[49m\u001b[38;5;241;43m.\u001b[39;49m\u001b[43mfind_province\u001b[49m\u001b[43m(\u001b[49m\u001b[43m)\u001b[49m\n\u001b[0;32m      3\u001b[0m test\u001b[38;5;241m.\u001b[39mprovince\n",
      "Input \u001b[1;32mIn [1]\u001b[0m, in \u001b[0;36mlocationExtractor.find_province\u001b[1;34m(self)\u001b[0m\n\u001b[0;32m     70\u001b[0m \u001b[38;5;28;01mfor\u001b[39;00m province \u001b[38;5;129;01min\u001b[39;00m province_list:\n\u001b[0;32m     71\u001b[0m     \u001b[38;5;28;01mif\u001b[39;00m words \u001b[38;5;129;01min\u001b[39;00m province_list:\n\u001b[1;32m---> 72\u001b[0m         \u001b[38;5;28mself\u001b[39m\u001b[38;5;241m.\u001b[39mprovince\u001b[38;5;241m.\u001b[39mappend(province)\n",
      "\u001b[1;31mKeyboardInterrupt\u001b[0m: "
     ]
    }
   ],
   "source": [
    "test = locationExtractor(news='เมื่อวันที่ 13 ส.ค. ตำรวจสายตรวจ สภ.เมืองสิงห์บุรี ได้รับแจ้งเหตุมีคนคลุ้มคลั่งใช้อาวุธมีดฟันรถยนต์ที่จอดอยู่ภายในเต็นท์จำหน่ายรถยนต์มือสอง ตำบลต้นโพธ์ อำเภอเมืองสิงห์บุรี จึงรีดรุดไปตรวจสอบ ที่เกิดเหตุพบนายประสูติ พระยิ้ม เจ้าของเต็นท์รถยืนรอเจ้าหน้าที่ พร้อมกับให้การว่า ผู้ก่อเหตุเป็นหญิงชื่อ นางบุญช่วย (สงวนนามสกุล) อายุ 44 ปี คลุ้มคลั่งพูดจาไม่รู้เรื่อง ก่อนจะใช้มีดฟันกระจกมองข้างรถยนต์ในเต็นท์เสียหายไป 2 คัน ขณะนี้อยู่ในห้องพักคนงาน...')\n",
    "test.find_province()\n",
    "test.province\n"
   ]
  },
  {
   "cell_type": "code",
   "execution_count": 101,
   "id": "a8bd0a2e",
   "metadata": {},
   "outputs": [],
   "source": [
    "test = locationExtractor(news='เมื่อวันที่ 13 ส.ค. ตำรวจสายตรวจ สภ.เมืองสิงห์บุรี ได้รับแจ้งเหตุมีคนคลุ้มคลั่งใช้อาวุธมีดฟันรถยนต์ที่จอดอยู่ภายในเต็นท์จำหน่ายรถยนต์มือสอง ตำบลต้นโพธ์ อำเภอเมืองสิงห์บุรี จึงรีดรุดไปตรวจสอบ ที่เกิดเหตุพบนายประสูติ พระยิ้ม เจ้าของเต็นท์รถยืนรอเจ้าหน้าที่ พร้อมกับให้การว่า ผู้ก่อเหตุเป็นหญิงชื่อ นางบุญช่วย (สงวนนามสกุล) อายุ 44 ปี คลุ้มคลั่งพูดจาไม่รู้เรื่อง ก่อนจะใช้มีดฟันกระจกมองข้างรถยนต์ในเต็นท์เสียหายไป 2 คัน ขณะนี้อยู่ในห้องพักคนงาน... สามารถติดตามต่อได้ที่ : https://www.dailynews.co.th/news/1355906/')\n",
    "test.find_tambon()\n"
   ]
  },
  {
   "cell_type": "code",
   "execution_count": 20,
   "id": "10fdd51a",
   "metadata": {},
   "outputs": [
    {
     "name": "stdout",
     "output_type": "stream",
     "text": [
      "Yes, 'at' found in List :  ['Hi', 'hello', 'at', 'this', 'there', 'from']\n"
     ]
    }
   ],
   "source": [
    "listOfStrings = ['Hi' , 'hello', 'at', 'this', 'there', 'from']\n",
    "if 'at' in listOfStrings :\n",
    "    print(\"Yes, 'at' found in List : \" , listOfStrings)"
   ]
  },
  {
   "cell_type": "code",
   "execution_count": 27,
   "id": "3b3432ca",
   "metadata": {},
   "outputs": [
    {
     "name": "stdout",
     "output_type": "stream",
     "text": [
      "0\n",
      "1\n",
      "2\n",
      "3\n",
      "4\n",
      "5\n"
     ]
    }
   ],
   "source": [
    "for i in range(6):\n",
    "    print(i)"
   ]
  },
  {
   "cell_type": "code",
   "execution_count": 93,
   "id": "49b1dcc1",
   "metadata": {},
   "outputs": [
    {
     "name": "stdout",
     "output_type": "stream",
     "text": [
      "gda\n"
     ]
    }
   ],
   "source": [
    "text = \"กรุงเทพ\"\n",
    "test_full = \"กรุงเทพมหานคร\"\n",
    "\n",
    "if test_full in text:\n",
    "    print('y')\n",
    "else:\n",
    "    print('gda')"
   ]
  },
  {
   "cell_type": "code",
   "execution_count": 98,
   "id": "b25d996e",
   "metadata": {},
   "outputs": [],
   "source": [
    "names = [\"Alice\", \"Bob\", \"Charlie\"]\n",
    "if \"Alice\" in names:\n",
    "    idx = names.index(\"Alice\")\n",
    "else:\n",
    "    print(\"Not found.\")"
   ]
  },
  {
   "cell_type": "code",
   "execution_count": 120,
   "id": "4d91f973",
   "metadata": {},
   "outputs": [
    {
     "ename": "NameError",
     "evalue": "name 'db_file' is not defined",
     "output_type": "error",
     "traceback": [
      "\u001b[1;31m---------------------------------------------------------------------------\u001b[0m",
      "\u001b[1;31mNameError\u001b[0m                                 Traceback (most recent call last)",
      "Input \u001b[1;32mIn [120]\u001b[0m, in \u001b[0;36m<cell line: 1>\u001b[1;34m()\u001b[0m\n\u001b[1;32m----> 1\u001b[0m db_file \u001b[38;5;241m=\u001b[39m \u001b[43mdb_file\u001b[49m \u001b[38;5;129;01mor\u001b[39;00m os\u001b[38;5;241m.\u001b[39mpath\u001b[38;5;241m.\u001b[39mdirname(os\u001b[38;5;241m.\u001b[39mpath\u001b[38;5;241m.\u001b[39mrealpath(cur_dir)) \u001b[38;5;241m+\u001b[39m \u001b[38;5;124m\"\u001b[39m\u001b[38;5;124m/locationdata.db\u001b[39m\u001b[38;5;124m\"\u001b[39m\n\u001b[0;32m      2\u001b[0m conn \u001b[38;5;241m=\u001b[39m sqlite3\u001b[38;5;241m.\u001b[39mconnect(db_file)\n",
      "\u001b[1;31mNameError\u001b[0m: name 'db_file' is not defined"
     ]
    }
   ],
   "source": []
  },
  {
   "cell_type": "code",
   "execution_count": null,
   "id": "716e1239",
   "metadata": {},
   "outputs": [],
   "source": []
  }
 ],
 "metadata": {
  "kernelspec": {
   "display_name": "Python 3 (ipykernel)",
   "language": "python",
   "name": "python3"
  },
  "language_info": {
   "codemirror_mode": {
    "name": "ipython",
    "version": 3
   },
   "file_extension": ".py",
   "mimetype": "text/x-python",
   "name": "python",
   "nbconvert_exporter": "python",
   "pygments_lexer": "ipython3",
   "version": "3.9.12"
  }
 },
 "nbformat": 4,
 "nbformat_minor": 5
}
